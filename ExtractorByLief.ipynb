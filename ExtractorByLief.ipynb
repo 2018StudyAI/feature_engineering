{
 "cells": [
  {
   "cell_type": "markdown",
   "metadata": {},
   "source": [
    "# load PE Format"
   ]
  },
  {
   "cell_type": "code",
   "execution_count": 3,
   "metadata": {},
   "outputs": [],
   "source": [
    "import lief\n",
    "\n",
    "path = r'C:\\Users\\kgg19\\Documents\\dataset\\TrainSet\\000aadad7b6e9316638e920f863855e7.vir'\n",
    "binary = lief.parse(path)"
   ]
  },
  {
   "cell_type": "markdown",
   "metadata": {},
   "source": [
    "# DOS Header"
   ]
  },
  {
   "cell_type": "code",
   "execution_count": 6,
   "metadata": {},
   "outputs": [
    {
     "name": "stdout",
     "output_type": "stream",
     "text": [
      "Magic:                        5a4d\n",
      "Used Bytes In The LastPage:   90\n",
      "File Size In Pages:           3\n",
      "Number Of Relocation:         0\n",
      "Header Size In Paragraphs:    4\n",
      "Minimum Extra Paragraphs:     0\n",
      "Maximum Extra Paragraphs:     ffff\n",
      "Initial Relative SS:          0\n",
      "Initial SP:                   b8\n",
      "Checksum:                     0\n",
      "Initial IP:                   0\n",
      "Initial Relative CS:          0\n",
      "Address Of Relocation Table:  40\n",
      "Overlay Number:               0\n",
      "OEM id:                       0\n",
      "OEM info:                     0\n",
      "Address Of New Exe Header:    c8\n",
      "\n"
     ]
    }
   ],
   "source": [
    "dos_header = binary.dos_header\n",
    "print(dos_header)"
   ]
  },
  {
   "cell_type": "markdown",
   "metadata": {},
   "source": [
    "# Optional Header"
   ]
  },
  {
   "cell_type": "code",
   "execution_count": 7,
   "metadata": {},
   "outputs": [
    {
     "name": "stdout",
     "output_type": "stream",
     "text": [
      "Magic:                           10b\n",
      "Major Linker Version:            6\n",
      "Minor Linker Version:            0\n",
      "Size Of Code:                    6200\n",
      "Size Of Initialized Data:        2d800\n",
      "Size Of Uninitialized Data:      800\n",
      "Address Of Entry Point:          333e\n",
      "Base Of Code:                    1000\n",
      "Base Of Data:                    8000\n",
      "Image Base:                      400000\n",
      "Section Alignment:               1000\n",
      "File Alignment:                  200\n",
      "Major Operating System Version:  4\n",
      "Minor Operating System Version:  0\n",
      "Major Image Version:             6\n",
      "Minor Image Version:             0\n",
      "Major Subsystem Version:         4\n",
      "Minor Subsystem Version:         0\n",
      "Win32 Version Value:             0\n",
      "Size Of Image:                   68000\n",
      "Size Of Headers:                 400\n",
      "CheckSum:                        81246\n",
      "Subsystem:                       WINDOWS_GUI\n",
      "DLL Characteristics:             \n",
      "- TERMINAL_SERVER_AWARE\n",
      "Size Of Stack Reserve:           100000\n",
      "Size Of Stack Commit:            1000\n",
      "Size Of Heap Reserve:            100000\n",
      "Size Of Heap Commit:             1000\n",
      "Loader Flags:                    0\n",
      "Number Of RVA And Size:          10\n",
      "\n"
     ]
    }
   ],
   "source": [
    "optional_header = binary.optional_header\n",
    "print(optional_header)"
   ]
  },
  {
   "cell_type": "markdown",
   "metadata": {},
   "source": [
    "# FILE Header"
   ]
  },
  {
   "cell_type": "code",
   "execution_count": 9,
   "metadata": {},
   "outputs": [
    {
     "name": "stdout",
     "output_type": "stream",
     "text": [
      "Signature:                    50 45 0 0 \n",
      "Machine:                      I386\n",
      "Number Of Sections:           5\n",
      "Pointer To Symbol Table:      0\n",
      "Number Of Symbols:            0\n",
      "Size Of Optional Header:      e0\n",
      "Characteristics:              RELOCS_STRIPPED - EXECUTABLE_IMAGE - LINE_NUMS_STRIPPED - LOCAL_SYMS_STRIPPED - CHARA_32BIT_MACHINE\n",
      "Time Date Stamp:              519965e7\n",
      "\n"
     ]
    }
   ],
   "source": [
    "file_header = binary.header\n",
    "print(file_header)"
   ]
  },
  {
   "cell_type": "markdown",
   "metadata": {},
   "source": [
    "# SECTIONS Header"
   ]
  },
  {
   "cell_type": "code",
   "execution_count": 11,
   "metadata": {},
   "outputs": [
    {
     "name": "stdout",
     "output_type": "stream",
     "text": [
      "<_pylief.class LIEF::ref_iterator<class std::vector<class LIEF::PE::Section * __ptr64,class std::allocator<class LIEF::PE::Section * __ptr64> >,class std::_Vector_iterator<class std::_Vector_val<struct std::_Simple_types<class LIEF::PE::Section * __ptr64> > > > object at 0x000001F41672A3E8>\n"
     ]
    }
   ],
   "source": [
    "section_header = binary.sections\n",
    "print(section_header)"
   ]
  },
  {
   "cell_type": "code",
   "execution_count": 13,
   "metadata": {},
   "outputs": [],
   "source": [
    "features = []\n",
    "#features.append(file_header.machine) #string\n",
    "features.append(file_header.numberof_sections)\n",
    "features.append(file_header.pointerto_symbol_table)\n",
    "features.append(file_header.numberof_symbols)\n",
    "features.append(file_header.sizeof_optional_header)\n",
    "features.append(file_header.characteristics)\n",
    "features.append(optional_header.magic)\n",
    "features.append(optional_header.major_linker_version)\n",
    "features.append(optional_header.minor_linker_version)\n",
    "features.append(optional_header.sizeof_code)\n",
    "features.append(optional_header.sizeof_initialized_data)\n",
    "features.append(optional_header.sizeof_uninitialized_data)\n",
    "features.append(optional_header.addressof_entrypoint)\n",
    "features.append(optional_header.baseof_code)\n",
    "features.append(optional_header.baseof_data)\n",
    "features.append(optional_header.imagebase)\n",
    "features.append(optional_header.section_alignment)\n",
    "features.append(optional_header.file_alignment)\n",
    "features.append(optional_header.minor_operating_system_version)\n",
    "features.append(optional_header.major_operating_system_version)\n",
    "features.append(optional_header.major_image_version)\n",
    "features.append(optional_header.minor_image_version)\n",
    "features.append(optional_header.major_subsystem_version)\n",
    "features.append(optional_header.minor_subsystem_version)\n",
    "features.append(optional_header.win32_version_value)\n",
    "features.append(optional_header.sizeof_image)\n",
    "features.append(optional_header.sizeof_headers)\n",
    "features.append(optional_header.checksum)\n",
    "features.append(optional_header.subsystem)\n",
    "features.append(optional_header.dll_characteristics)\n",
    "features.append(optional_header.sizeof_stack_reserve)\n",
    "features.append(optional_header.sizeof_stack_commit)\n",
    "features.append(optional_header.sizeof_heap_reserve)\n",
    "features.append(optional_header.sizeof_heap_commit)\n",
    "features.append(optional_header.loader_flags)\n",
    "features.append(optional_header.numberof_rva_and_size)\n",
    "features.append(dos_header.used_bytes_in_the_last_page)\n",
    "features.append(dos_header.file_size_in_pages)\n",
    "features.append(dos_header.numberof_relocation)\n",
    "features.append(dos_header.header_size_in_paragraphs)\n",
    "features.append(dos_header.minimum_extra_paragraphs)\n",
    "features.append(dos_header.maximum_extra_paragraphs)\n",
    "features.append(dos_header.initial_relative_ss)\n",
    "features.append(dos_header.initial_sp)\n",
    "features.append(dos_header.checksum)\n",
    "features.append(dos_header.initial_ip)\n",
    "features.append(dos_header.initial_relative_cs)\n",
    "features.append(dos_header.addressof_relocation_table)\n",
    "features.append(dos_header.overlay_number)\n",
    "features.append(dos_header.oem_id)\n",
    "features.append(dos_header.oem_info)\n",
    "features.append(dos_header.addressof_new_exeheader)"
   ]
  },
  {
   "cell_type": "code",
   "execution_count": 14,
   "metadata": {},
   "outputs": [
    {
     "data": {
      "text/plain": [
       "[MACHINE_TYPES.I386,\n",
       " 5,\n",
       " 0,\n",
       " 0,\n",
       " 224,\n",
       " HEADER_CHARACTERISTICS.???,\n",
       " HEADER_CHARACTERISTICS.???,\n",
       " PE_TYPE.PE32,\n",
       " 6,\n",
       " 0,\n",
       " 25088,\n",
       " 186368,\n",
       " 2048,\n",
       " 13118,\n",
       " 4096,\n",
       " 32768,\n",
       " 4194304,\n",
       " 4096,\n",
       " 512,\n",
       " 0,\n",
       " 4,\n",
       " 6,\n",
       " 0,\n",
       " 4,\n",
       " 0,\n",
       " 0,\n",
       " 425984,\n",
       " 1024,\n",
       " 528966,\n",
       " SUBSYSTEM.WINDOWS_GUI,\n",
       " 32768,\n",
       " 1048576,\n",
       " 4096,\n",
       " 1048576,\n",
       " 4096,\n",
       " 0,\n",
       " 16,\n",
       " 144,\n",
       " 3,\n",
       " 0,\n",
       " 4,\n",
       " 0,\n",
       " 65535,\n",
       " 0,\n",
       " 184,\n",
       " 0,\n",
       " 0,\n",
       " 0,\n",
       " 64,\n",
       " 0,\n",
       " 0,\n",
       " 0,\n",
       " 200]"
      ]
     },
     "execution_count": 14,
     "metadata": {},
     "output_type": "execute_result"
    }
   ],
   "source": [
    "features"
   ]
  },
  {
   "cell_type": "code",
   "execution_count": 26,
   "metadata": {
    "scrolled": true
   },
   "outputs": [
    {
     "data": {
      "text/plain": [
       "<Structure: [IMAGE_FILE_HEADER] 0xCC 0x0 Machine: 0x14C 0xCE 0x2 NumberOfSections: 0x5 0xD0 0x4 TimeDateStamp: 0x519965E7 [Sun May 19 23:53:11 2013 UTC] 0xD4 0x8 PointerToSymbolTable: 0x0 0xD8 0xC NumberOfSymbols: 0x0 0xDC 0x10 SizeOfOptionalHeader: 0xE0 0xDE 0x12 Characteristics: 0x10F>"
      ]
     },
     "execution_count": 26,
     "metadata": {},
     "output_type": "execute_result"
    }
   ],
   "source": []
  },
  {
   "cell_type": "code",
   "execution_count": null,
   "metadata": {},
   "outputs": [],
   "source": []
  }
 ],
 "metadata": {
  "kernelspec": {
   "display_name": "Python 3",
   "language": "python",
   "name": "python3"
  },
  "language_info": {
   "codemirror_mode": {
    "name": "ipython",
    "version": 3
   },
   "file_extension": ".py",
   "mimetype": "text/x-python",
   "name": "python",
   "nbconvert_exporter": "python",
   "pygments_lexer": "ipython3",
   "version": "3.6.6"
  }
 },
 "nbformat": 4,
 "nbformat_minor": 2
}
