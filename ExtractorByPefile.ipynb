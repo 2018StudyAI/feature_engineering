{
 "cells": [
  {
   "cell_type": "code",
   "execution_count": 50,
   "metadata": {},
   "outputs": [],
   "source": [
    "import pefile\n",
    "import lief\n",
    "\n",
    "#path = r'C:\\Users\\kgg19\\Documents\\dataset\\TrainSet\\000aadad7b6e9316638e920f863855e7.vir'\n",
    "#tlspath = r'C:\\Users\\kgg19\\Documents\\dataset\\TrainSet\\000cf45762de2c8b602ff4a422395560.vir'\n",
    "DEBUG_STRIP_PATH = r'C:\\Users\\kgg19\\Documents\\dataset\\TrainSet\\01c49fac42842ff14df53cccf9fa71da.vir'\n",
    "pe = pefile.PE(tlspath)\n",
    "li = lief.parse(tlspath)"
   ]
  },
  {
   "cell_type": "markdown",
   "metadata": {},
   "source": [
    "# FILE_Header"
   ]
  },
  {
   "cell_type": "code",
   "execution_count": 63,
   "metadata": {},
   "outputs": [
    {
     "name": "stdout",
     "output_type": "stream",
     "text": [
      "[IMAGE_FILE_HEADER]\n",
      "0x104      0x0   Machine:                       0x14C     \n",
      "0x106      0x2   NumberOfSections:              0x8       \n",
      "0x108      0x4   TimeDateStamp:                 0x2A425E19 [Fri Jun 19 22:22:17 1992 UTC]\n",
      "0x10C      0x8   PointerToSymbolTable:          0x0       \n",
      "0x110      0xC   NumberOfSymbols:               0x0       \n",
      "0x114      0x10  SizeOfOptionalHeader:          0xE0      \n",
      "0x116      0x12  Characteristics:               0x818E    \n",
      "False\n",
      "False\n",
      "False\n",
      "True\n",
      "False\n",
      "True\n",
      "True\n",
      "False\n",
      "False\n",
      "False\n",
      "False\n",
      "False\n"
     ]
    }
   ],
   "source": [
    "file_header = pe.FILE_HEADER\n",
    "print(file_header)\n",
    "\n",
    "print(pe.FILE_HEADER.IMAGE_FILE_DEBUG_STRIPPED)\n",
    "print(pe.FILE_HEADER.IMAGE_FILE_DLL)\n",
    "print(pe.FILE_HEADER.IMAGE_FILE_EXECUTABLE_IMAGE)\n",
    "print(pe.FILE_HEADER.IMAGE_FILE_LARGE_ADDRESS_AWARE)\n",
    "print(pe.FILE_HEADER.IMAGE_FILE_LINE_NUMS_STRIPPED)\n",
    "print(pe.FILE_HEADER.IMAGE_FILE_LOCAL_SYMS_STRIPPED)\n",
    "print(pe.FILE_HEADER.IMAGE_FILE_NET_RUN_FROM_SWAP)\n",
    "print(pe.FILE_HEADER.IMAGE_FILE_RELOCS_STRIPPED)\n",
    "print(pe.FILE_HEADER.IMAGE_FILE_REMOVABLE_RUN_FROM_SWAP)\n",
    "print(pe.FILE_HEADER.IMAGE_FILE_SYSTEM)\n",
    "print(pe.FILE_HEADER.IMAGE_FILE_UP_SYSTEM_ONLY)"
   ]
  },
  {
   "cell_type": "markdown",
   "metadata": {},
   "source": [
    "# OPTIONAL_HEADER"
   ]
  },
  {
   "cell_type": "code",
   "execution_count": 8,
   "metadata": {},
   "outputs": [
    {
     "name": "stdout",
     "output_type": "stream",
     "text": [
      "[IMAGE_OPTIONAL_HEADER]\n",
      "0xE0       0x0   Magic:                         0x10B     \n",
      "0xE2       0x2   MajorLinkerVersion:            0x6       \n",
      "0xE3       0x3   MinorLinkerVersion:            0x0       \n",
      "0xE4       0x4   SizeOfCode:                    0x6200    \n",
      "0xE8       0x8   SizeOfInitializedData:         0x2D800   \n",
      "0xEC       0xC   SizeOfUninitializedData:       0x800     \n",
      "0xF0       0x10  AddressOfEntryPoint:           0x333E    \n",
      "0xF4       0x14  BaseOfCode:                    0x1000    \n",
      "0xF8       0x18  BaseOfData:                    0x8000    \n",
      "0xFC       0x1C  ImageBase:                     0x400000  \n",
      "0x100      0x20  SectionAlignment:              0x1000    \n",
      "0x104      0x24  FileAlignment:                 0x200     \n",
      "0x108      0x28  MajorOperatingSystemVersion:   0x4       \n",
      "0x10A      0x2A  MinorOperatingSystemVersion:   0x0       \n",
      "0x10C      0x2C  MajorImageVersion:             0x6       \n",
      "0x10E      0x2E  MinorImageVersion:             0x0       \n",
      "0x110      0x30  MajorSubsystemVersion:         0x4       \n",
      "0x112      0x32  MinorSubsystemVersion:         0x0       \n",
      "0x114      0x34  Reserved1:                     0x0       \n",
      "0x118      0x38  SizeOfImage:                   0x68000   \n",
      "0x11C      0x3C  SizeOfHeaders:                 0x400     \n",
      "0x120      0x40  CheckSum:                      0x81246   \n",
      "0x124      0x44  Subsystem:                     0x2       \n",
      "0x126      0x46  DllCharacteristics:            0x8000    \n",
      "0x128      0x48  SizeOfStackReserve:            0x100000  \n",
      "0x12C      0x4C  SizeOfStackCommit:             0x1000    \n",
      "0x130      0x50  SizeOfHeapReserve:             0x100000  \n",
      "0x134      0x54  SizeOfHeapCommit:              0x1000    \n",
      "0x138      0x58  LoaderFlags:                   0x0       \n",
      "0x13C      0x5C  NumberOfRvaAndSizes:           0x10      \n"
     ]
    }
   ],
   "source": [
    "optional_header = pe.OPTIONAL_HEADER\n",
    "print(optional_header)"
   ]
  },
  {
   "cell_type": "markdown",
   "metadata": {},
   "source": [
    "# DOS_HEADER"
   ]
  },
  {
   "cell_type": "code",
   "execution_count": 10,
   "metadata": {},
   "outputs": [
    {
     "name": "stdout",
     "output_type": "stream",
     "text": [
      "[IMAGE_DOS_HEADER]\n",
      "0x0        0x0   e_magic:                       0x5A4D    \n",
      "0x2        0x2   e_cblp:                        0x90      \n",
      "0x4        0x4   e_cp:                          0x3       \n",
      "0x6        0x6   e_crlc:                        0x0       \n",
      "0x8        0x8   e_cparhdr:                     0x4       \n",
      "0xA        0xA   e_minalloc:                    0x0       \n",
      "0xC        0xC   e_maxalloc:                    0xFFFF    \n",
      "0xE        0xE   e_ss:                          0x0       \n",
      "0x10       0x10  e_sp:                          0xB8      \n",
      "0x12       0x12  e_csum:                        0x0       \n",
      "0x14       0x14  e_ip:                          0x0       \n",
      "0x16       0x16  e_cs:                          0x0       \n",
      "0x18       0x18  e_lfarlc:                      0x40      \n",
      "0x1A       0x1A  e_ovno:                        0x0       \n",
      "0x1C       0x1C  e_res:                         \n",
      "0x24       0x24  e_oemid:                       0x0       \n",
      "0x26       0x26  e_oeminfo:                     0x0       \n",
      "0x28       0x28  e_res2:                        \n",
      "0x3C       0x3C  e_lfanew:                      0xC8      \n"
     ]
    }
   ],
   "source": [
    "dos_header = pe.DOS_HEADER\n",
    "print(dos_header)"
   ]
  },
  {
   "cell_type": "markdown",
   "metadata": {},
   "source": [
    "# RICH Header"
   ]
  },
  {
   "cell_type": "code",
   "execution_count": 22,
   "metadata": {},
   "outputs": [
    {
     "name": "stdout",
     "output_type": "stream",
     "text": [
      "1781191029\n",
      "b'DanS\\x00\\x00\\x00\\x00\\x00\\x00\\x00\\x00\\x00\\x00\\x00\\x00\\xc3\\x0f_\\x00\\x02\\x00\\x00\\x00\\x00\\x00\\x01\\x00\\xa6\\x00\\x00\\x00\\xc3\\x0f]\\x00\\x11\\x00\\x00\\x00T#0\\x00\\n\\x00\\x00\\x00\\xc7\\x06\\x06\\x00\\x01\\x00\\x00\\x00'\n",
      "b'u\\xd1*j'\n",
      "b'1\\xb0D9u\\xd1*ju\\xd1*ju\\xd1*j\\xb6\\xdeujw\\xd1*ju\\xd1+j\\xd3\\xd1*j\\xb6\\xdewjd\\xd1*j!\\xf2\\x1aj\\x7f\\xd1*j\\xb2\\xd7,jt\\xd1*j'\n",
      "[6229955, 2, 65536, 166, 6098883, 17, 3154772, 10, 394951, 1]\n"
     ]
    }
   ],
   "source": [
    "rich_header = pe.RICH_HEADER\n",
    "print(rich_header.checksum)\n",
    "print(rich_header.clear_data)\n",
    "print(rich_header.key)\n",
    "print(rich_header.raw_data)\n",
    "print(rich_header.values)"
   ]
  },
  {
   "cell_type": "markdown",
   "metadata": {},
   "source": [
    "# TLS\n",
    "### pefile모듈을 사용해서 tls section의 크기가 0이 아니면 tls가 있다고 판별하기보다는\n",
    "### lief모듈을 사용하는 편이 더 간단할 듯 \n",
    "### (성능->속도 차이가 있으려나?)"
   ]
  },
  {
   "cell_type": "code",
   "execution_count": 44,
   "metadata": {},
   "outputs": [
    {
     "name": "stdout",
     "output_type": "stream",
     "text": [
      "False\n",
      "True\n",
      "False\n",
      "False\n"
     ]
    }
   ],
   "source": [
    "data_directory = pe.OPTIONAL_HEADER.DATA_DIRECTORY\n",
    "\n",
    "\n",
    "# nameOfDataDirectory = [ directory.name for directory in data_directory]\n",
    "# for directory in data_directory:\n",
    "#     #print(dir(directory))\n",
    "#     print(directory.name)\n",
    "#     print(directory.Size)\n",
    "    \n",
    "print(li.has_rich_header)\n",
    "print(li.has_tls)\n",
    "print(li.has_debug)\n",
    "print(li.has_signature)"
   ]
  },
  {
   "cell_type": "markdown",
   "metadata": {},
   "source": [
    "# HAS_DEBUG"
   ]
  },
  {
   "cell_type": "code",
   "execution_count": 5,
   "metadata": {},
   "outputs": [
    {
     "name": "stdout",
     "output_type": "stream",
     "text": [
      "False\n",
      "True\n"
     ]
    }
   ],
   "source": [
    "import lief\n",
    "\n",
    "debug_path = r'C:\\Users\\kgg19\\Documents\\dataset\\TrainSet\\01c49fac42842ff14df53cccf9fa71da.vir'\n",
    "has_debug_binary = lief.parse(debug_path)\n",
    "#dir(has_debug_binary)\n",
    "print(has_debug_binary.has_tls)\n",
    "print(has_debug_binary.has_debug)"
   ]
  },
  {
   "cell_type": "markdown",
   "metadata": {},
   "source": [
    "# Extract PE Format Field"
   ]
  },
  {
   "cell_type": "code",
   "execution_count": 9,
   "metadata": {},
   "outputs": [
    {
     "name": "stdout",
     "output_type": "stream",
     "text": [
      "[5, 1369007591, 0, 0, 224, 271, 267, 6, 0, 25088, 186368, 2048, 13118, 4096, 32768, 4194304, 4096, 512, 4, 0, 6, 0, 4, 0, 0, 425984, 1024, 528966, 32768, 1048576, 4096, 1048576, 4096, 0, 16]\n"
     ]
    }
   ],
   "source": [
    "features = []\n",
    "#file_header\n",
    "features.append(file_header.NumberOfSections)\n",
    "features.append(file_header.TimeDateStamp)\n",
    "features.append(file_header.PointerToSymbolTable)\n",
    "features.append(file_header.NumberOfSymbols)\n",
    "features.append(file_header.SizeOfOptionalHeader)\n",
    "features.append(file_header.Characteristics)\n",
    "#optional_header\n",
    "features.append(optional_header.Magic)\n",
    "features.append(optional_header.MajorLinkerVersion)\n",
    "features.append(optional_header.MinorLinkerVersion)\n",
    "features.append(optional_header.SizeOfCode)\n",
    "features.append(optional_header.SizeOfInitializedData)\n",
    "features.append(optional_header.SizeOfUninitializedData)\n",
    "features.append(optional_header.AddressOfEntryPoint)\n",
    "features.append(optional_header.BaseOfCode)\n",
    "features.append(optional_header.BaseOfData)\n",
    "features.append(optional_header.ImageBase)\n",
    "features.append(optional_header.SectionAlignment)\n",
    "features.append(optional_header.FileAlignment)\n",
    "features.append(optional_header.MajorOperatingSystemVersion)\n",
    "features.append(optional_header.MinorOperatingSystemVersion)\n",
    "features.append(optional_header.MajorImageVersion)\n",
    "features.append(optional_header.MinorImageVersion)\n",
    "features.append(optional_header.MajorSubsystemVersion)\n",
    "features.append(optional_header.MinorSubsystemVersion)\n",
    "features.append(optional_header.Reserved1)\n",
    "features.append(optional_header.SizeOfImage)\n",
    "features.append(optional_header.SizeOfHeaders)\n",
    "features.append(optional_header.CheckSum)\n",
    "features.append(optional_header.DllCharacteristics)\n",
    "features.append(optional_header.SizeOfStackReserve)\n",
    "features.append(optional_header.SizeOfStackCommit)\n",
    "features.append(optional_header.SizeOfHeapReserve)\n",
    "features.append(optional_header.SizeOfHeapCommit)\n",
    "features.append(optional_header.LoaderFlags)\n",
    "features.append(optional_header.NumberOfRvaAndSizes)\n",
    "#DOS_HEADER\n",
    "features.append(dos_header.e_magic)\n",
    "features.append(dos_header.e_lfanew)\n",
    "\n",
    "print(features)"
   ]
  },
  {
   "cell_type": "code",
   "execution_count": 13,
   "metadata": {},
   "outputs": [
    {
     "name": "stdout",
     "output_type": "stream",
     "text": [
      "1781191029\n"
     ]
    }
   ],
   "source": []
  },
  {
   "cell_type": "code",
   "execution_count": null,
   "metadata": {},
   "outputs": [],
   "source": []
  }
 ],
 "metadata": {
  "kernelspec": {
   "display_name": "Python 3",
   "language": "python",
   "name": "python3"
  },
  "language_info": {
   "codemirror_mode": {
    "name": "ipython",
    "version": 3
   },
   "file_extension": ".py",
   "mimetype": "text/x-python",
   "name": "python",
   "nbconvert_exporter": "python",
   "pygments_lexer": "ipython3",
   "version": "3.6.6"
  }
 },
 "nbformat": 4,
 "nbformat_minor": 2
}
